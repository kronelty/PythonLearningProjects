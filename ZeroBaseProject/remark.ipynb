{
 "cells": [
  {
   "cell_type": "code",
   "execution_count": 62,
   "metadata": {},
   "outputs": [
    {
     "name": "stdout",
     "output_type": "stream",
     "text": [
      "\n",
      "이건 오류 안나나?\n",
      "# 이거도\n",
      "\n",
      "60\n"
     ]
    }
   ],
   "source": [
    "#주석입니다.\n",
    "#사용자 설명 코드 입니다.\n",
    "\n",
    "\"\"\"\n",
    "여러줄 입력\n",
    "print(\"asdf\")\n",
    "쌍따옴표 3개, 종료 ㄱㄴ\n",
    "\"\"\"\n",
    "\n",
    "'''\n",
    "이거도 됨ㅎ\n",
    "'''\n",
    "\n",
    "\n",
    "import random\n",
    "\n",
    "\n",
    "aString = \"\"\"\n",
    "이건 오류 안나나?\n",
    "# 이거도\n",
    "\"\"\"\n",
    "\n",
    "print(aString)\n",
    "\n",
    "# ㅋㅋㅋ\n",
    "# ㅋㅋ\n",
    "# ㅋ\n",
    "# ㅋㅋㅋㅋ\n",
    "# ㅋㅋㅋㅋㅋ\n",
    "\n",
    "#import test\n",
    "#auto import locates above first actual code.\n",
    "print(random.randint(1, 100))"
   ]
  }
 ],
 "metadata": {
  "kernelspec": {
   "display_name": "Python 3.6.5 ('base')",
   "language": "python",
   "name": "python3"
  },
  "language_info": {
   "codemirror_mode": {
    "name": "ipython",
    "version": 3
   },
   "file_extension": ".py",
   "mimetype": "text/x-python",
   "name": "python",
   "nbconvert_exporter": "python",
   "pygments_lexer": "ipython3",
   "version": "3.6.5"
  },
  "orig_nbformat": 4,
  "vscode": {
   "interpreter": {
    "hash": "602b1c7484e26aedcf451d52d69949f81343de5d9cf3f1248e786745c8ce3227"
   }
  }
 },
 "nbformat": 4,
 "nbformat_minor": 2
}
