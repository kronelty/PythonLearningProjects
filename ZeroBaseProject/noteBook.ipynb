{
 "cells": [
  {
   "cell_type": "code",
   "execution_count": 39,
   "metadata": {},
   "outputs": [
    {
     "name": "stdout",
     "output_type": "stream",
     "text": [
      "Hello world\n",
      "1\n",
      "2\n",
      "3\n",
      "4\n",
      "5\n",
      "6\n",
      "7\n",
      "8\n",
      "9\n",
      "10\n"
     ]
    }
   ],
   "source": [
    "print(\"Hello world\")\n",
    "a = 0\n",
    "while True:\n",
    "    a += 1\n",
    "    if a > 10:\n",
    "        break\n",
    "    print(a)"
   ]
  },
  {
   "cell_type": "code",
   "execution_count": 40,
   "metadata": {},
   "outputs": [
    {
     "name": "stdout",
     "output_type": "stream",
     "text": [
      "a = 11\n",
      "a = 11, a in string, 21\n"
     ]
    }
   ],
   "source": [
    "print(\"a = {}\".format(a))\n",
    "print(f\"a = {a}, a in string, {a + 10}\")"
   ]
  },
  {
   "cell_type": "code",
   "execution_count": 41,
   "metadata": {},
   "outputs": [
    {
     "name": "stdout",
     "output_type": "stream",
     "text": [
      "11\n"
     ]
    }
   ],
   "source": [
    "print(a)"
   ]
  },
  {
   "cell_type": "code",
   "execution_count": 42,
   "metadata": {},
   "outputs": [
    {
     "name": "stdout",
     "output_type": "stream",
     "text": [
      "None\n",
      "qwer\n",
      "3\n",
      "nullableA is None\n"
     ]
    }
   ],
   "source": [
    "a = None\n",
    "print(a)\n",
    "\n",
    "CONST_VAL_TEST = \"name_const\"\n",
    "CONST_VAL_TEST = \"qwer\"\n",
    "\n",
    "print(CONST_VAL_TEST)\n",
    "\n",
    "nullableA = 1\n",
    "print(nullableA * 3)\n",
    "\n",
    "nullableA = None\n",
    "if nullableA is not None:\n",
    "    print(nullableA * 3)\n",
    "else:\n",
    "    print(\"nullableA is None\")\n",
    "\n",
    "if nullableA: # var returns false in if_Reserved\n",
    "    print(\"nullableA is not None\")"
   ]
  },
  {
   "cell_type": "code",
   "execution_count": 43,
   "metadata": {},
   "outputs": [
    {
     "name": "stdout",
     "output_type": "stream",
     "text": [
      "0 0 0\n",
      "1 0 0\n",
      "3004\n",
      "3011\n",
      "3011\n"
     ]
    },
    {
     "data": {
      "text/plain": [
       "[('CONST_VAL_TEST', 53),\n",
       " ('varA', 28),\n",
       " ('varB', 24),\n",
       " ('varC', 24),\n",
       " ('a', 16),\n",
       " ('nullableA', 16)]"
      ]
     },
     "execution_count": 43,
     "metadata": {},
     "output_type": "execute_result"
    }
   ],
   "source": [
    "import sys\n",
    "\n",
    "\n",
    "varA = 0\n",
    "varB = varA\n",
    "varC = varB\n",
    "\n",
    "print(varA, varB, varC)\n",
    "varA = 1\n",
    "print(varA, varB, varC)\n",
    "print(sys.getrefcount(varA))\n",
    "varB = 0\n",
    "print(sys.getrefcount(varA))\n",
    "varC = 0\n",
    "print(sys.getrefcount(varA))\n",
    "\n",
    "# These are the usual ipython objects, including this one you are creating\n",
    "ipython_vars = ['In', 'Out', 'exit', 'quit', 'get_ipython', 'ipython_vars']\n",
    "\n",
    "# Get a sorted list of the objects and their sizes\n",
    "sorted([(x, sys.getsizeof(globals().get(x))) for x in dir() if not x.startswith('_') and x not in sys.modules and x not in ipython_vars], key=lambda x: x[1], reverse=True)\n"
   ]
  }
 ],
 "metadata": {
  "kernelspec": {
   "display_name": "Python 3.6.5 ('base')",
   "language": "python",
   "name": "python3"
  },
  "language_info": {
   "codemirror_mode": {
    "name": "ipython",
    "version": 3
   },
   "file_extension": ".py",
   "mimetype": "text/x-python",
   "name": "python",
   "nbconvert_exporter": "python",
   "pygments_lexer": "ipython3",
   "version": "3.6.5"
  },
  "orig_nbformat": 4,
  "vscode": {
   "interpreter": {
    "hash": "602b1c7484e26aedcf451d52d69949f81343de5d9cf3f1248e786745c8ce3227"
   }
  }
 },
 "nbformat": 4,
 "nbformat_minor": 2
}
