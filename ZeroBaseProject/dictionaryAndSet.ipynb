{
 "cells": [
  {
   "cell_type": "code",
   "execution_count": 1,
   "metadata": {},
   "outputs": [
    {
     "name": "stdout",
     "output_type": "stream",
     "text": [
      "{'n9y834': 1, 'rfedch8t7y0': 768, '45tyfcmh9n8u7': 8976539619832723875}\n",
      "1\n",
      "768\n",
      "8976539619832723875\n",
      "-------------------------------------------------------\n",
      "n9y834\n",
      "1\n",
      "rfedch8t7y0\n",
      "768\n",
      "45tyfcmh9n8u7\n",
      "8976539619832723875\n",
      "-------------------------------------------------------\n",
      "1\n",
      "768\n",
      "8976539619832723875\n",
      "-------------------------------------------------------\n",
      "access dictionary values with item's first index\n",
      "1\n",
      "768\n",
      "8976539619832723875\n",
      "-------------------------------------------------------\n",
      "1\n",
      "dict_values([768, 8976539619832723875])\n",
      "key 'n9y834' value does not exists\n",
      "-------------------------------------------------------\n",
      "{'rfedch8t7y0': 768, '45tyfcmh9n8u7': 8976539619832723875, 'n8u7yr4tdx': 6274}\n",
      "-------------------------------------------------------\n"
     ]
    }
   ],
   "source": [
    "aDic = {'n9y834': 1, 'rfedch8t7y0': 768, '45tyfcmh9n8u7': 8976539619832723875}\n",
    "print(aDic)\n",
    "print(aDic['n9y834'])\n",
    "print(aDic['rfedch8t7y0'])\n",
    "print(aDic['45tyfcmh9n8u7'])\n",
    "\n",
    "print(\"-------------------------------------------------------\")\n",
    "\n",
    "for i in aDic.keys():\n",
    "    print(i)\n",
    "    print(aDic[i])\n",
    "\n",
    "print(\"-------------------------------------------------------\")\n",
    "\n",
    "for i in aDic.values():\n",
    "    print(i)\n",
    "\n",
    "print(\"-------------------------------------------------------\")\n",
    "\n",
    "print(\"access dictionary values with item's first index\")\n",
    "for i in aDic.items():\n",
    "    print(aDic[i[0]])\n",
    "\n",
    "print(\"-------------------------------------------------------\")\n",
    "\n",
    "print(aDic.pop('n9y834'))\n",
    "print(aDic.values())\n",
    "try:\n",
    "    print(aDic.pop('n9y834'))\n",
    "except:\n",
    "    print(\"key 'n9y834' value does not exists\")\n",
    "\n",
    "print(\"-------------------------------------------------------\")\n",
    "\n",
    "aDic['n8u7yr4tdx'] = 6274\n",
    "print(aDic)\n",
    "\n",
    "print(\"-------------------------------------------------------\")"
   ]
  },
  {
   "cell_type": "code",
   "execution_count": 2,
   "metadata": {},
   "outputs": [
    {
     "name": "stdout",
     "output_type": "stream",
     "text": [
      "{'98mjx23': 476567567, 'jg6g5v3v3h': 2345234, 'v24v36h54vh653': 1234, 'x234x234d': 4234234, 'j5nnk5': 145, '546hv5h6g': 656767867868678, 'x1x1x12c323': 23, 'ytbjbgb': 234, '425vtcvv': 12341234}\n",
      "-------------------------------------------------------\n",
      "key is 98mjx23\n",
      "value is 476567567\n",
      "key is jg6g5v3v3h\n",
      "value is 2345234\n",
      "key is v24v36h54vh653\n",
      "value is 1234\n",
      "key is x234x234d\n",
      "value is 4234234\n",
      "key is j5nnk5\n",
      "value is 145\n",
      "key is 546hv5h6g\n",
      "value is 656767867868678\n",
      "key is x1x1x12c323\n",
      "value is 23\n",
      "key is ytbjbgb\n",
      "value is 234\n",
      "key is 425vtcvv\n",
      "value is 12341234\n",
      "Traceback (most recent call last):\n",
      "  File \"<ipython-input-2-9d98281d895a>\", line 25, in <module>\n",
      "    key = next(iterator)\n",
      "StopIteration\n",
      "\n",
      "iterator end\n",
      "98mjx23  ->  476567567\n",
      "jg6g5v3v3h  ->  2345234\n",
      "v24v36h54vh653  ->  1234\n",
      "x234x234d  ->  4234234\n",
      "j5nnk5  ->  145\n",
      "546hv5h6g  ->  656767867868678\n",
      "x1x1x12c323  ->  23\n",
      "ytbjbgb  ->  234\n",
      "425vtcvv  ->  12341234\n",
      "-------------------------------------------------------\n"
     ]
    }
   ],
   "source": [
    "import traceback\n",
    "\n",
    "\n",
    "bDic = {}\n",
    "bDic.update({'98mjx23': 93845})\n",
    "# bDic.update({input('bDic key'): input('bDic value')})\n",
    "bDic.update({'98mjx23': 476567567})\n",
    "bDic.update({'jg6g5v3v3h': 2345234})\n",
    "bDic.update({'v24v36h54vh653': 1234})\n",
    "bDic.update({'x234x234d': 4234234})\n",
    "bDic.update({'j5nnk5': 145})\n",
    "bDic.update({'546hv5h6g': 656767867868678})\n",
    "bDic.update({'x1x1x12c323': 23})\n",
    "bDic.update({'ytbjbgb': 234})\n",
    "bDic.update({'425vtcvv': 12341234})\n",
    "\n",
    "print(bDic)\n",
    "\n",
    "print(\"-------------------------------------------------------\")\n",
    "\n",
    "iterator = iter(bDic)\n",
    "\n",
    "while True:\n",
    "    try:\n",
    "        key = next(iterator)\n",
    "        print(\"key is\", key)\n",
    "        print(\"value is\", bDic[key])\n",
    "    except Exception as e:\n",
    "        print(traceback.format_exc())\n",
    "        # print(\"Error: \", e.with_traceback)\n",
    "        print(\"iterator end\")\n",
    "        \n",
    "        break\n",
    "\n",
    "for i in bDic.keys():\n",
    "    print(i, \" -> \", bDic[i])\n",
    "\n",
    "print(\"-------------------------------------------------------\")"
   ]
  },
  {
   "cell_type": "code",
   "execution_count": 3,
   "metadata": {},
   "outputs": [
    {
     "name": "stdout",
     "output_type": "stream",
     "text": [
      "{1, 2, 3, 4}\n",
      "{'g', 'f', 'b', 'c', 'e', 'a', 'd'}\n",
      "['a', 'b', 'c', 'd', 'e', 'f', 'g']\n"
     ]
    }
   ],
   "source": [
    "aSet = set([1, 2, 3, 4])\n",
    "print(aSet)\n",
    "\n",
    "bSet = set(\"abcdefg\")\n",
    "print(bSet)\n",
    "print(sorted(bSet))"
   ]
  }
 ],
 "metadata": {
  "kernelspec": {
   "display_name": "Python 3.6.5 ('base')",
   "language": "python",
   "name": "python3"
  },
  "language_info": {
   "codemirror_mode": {
    "name": "ipython",
    "version": 3
   },
   "file_extension": ".py",
   "mimetype": "text/x-python",
   "name": "python",
   "nbconvert_exporter": "python",
   "pygments_lexer": "ipython3",
   "version": "3.6.5"
  },
  "orig_nbformat": 4,
  "vscode": {
   "interpreter": {
    "hash": "602b1c7484e26aedcf451d52d69949f81343de5d9cf3f1248e786745c8ce3227"
   }
  }
 },
 "nbformat": 4,
 "nbformat_minor": 2
}
