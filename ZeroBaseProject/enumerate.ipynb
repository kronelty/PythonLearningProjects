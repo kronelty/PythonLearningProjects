{
 "cells": [
  {
   "cell_type": "code",
   "execution_count": 1,
   "metadata": {},
   "outputs": [
    {
     "name": "stdout",
     "output_type": "stream",
     "text": [
      "i = 0 k = 홍길동\n",
      "i = 1 k = 장다인\n",
      "i = 2 k = 김철수\n",
      "-------------------------------------------------------\n",
      "홍길동 500\n",
      "장다인 5\n",
      "김철수 12\n",
      "홍길동 500\n",
      "장다인 5\n",
      "김철수 12\n"
     ]
    }
   ],
   "source": [
    "nameList = [\"홍길동\", \"장다인\", \"김철수\"]\n",
    "ageList = [500, 5, 12]\n",
    "for i, k in enumerate(nameList):\n",
    "    print(\"i =\", i, end = ' ')\n",
    "    print(\"k =\", k)\n",
    "\n",
    "print(\"-------------------------------------------------------\")\n",
    "\n",
    "for i, k in enumerate(nameList):\n",
    "    print(k, end = ' ')\n",
    "    print(ageList[i])\n",
    "\n",
    "for i, k in enumerate(nameList):\n",
    "    print(nameList[i], end = ' ')\n",
    "    print(ageList[i])"
   ]
  }
 ],
 "metadata": {
  "kernelspec": {
   "display_name": "Python 3.6.5 ('base')",
   "language": "python",
   "name": "python3"
  },
  "language_info": {
   "codemirror_mode": {
    "name": "ipython",
    "version": 3
   },
   "file_extension": ".py",
   "mimetype": "text/x-python",
   "name": "python",
   "nbconvert_exporter": "python",
   "pygments_lexer": "ipython3",
   "version": "3.6.5"
  },
  "orig_nbformat": 4,
  "vscode": {
   "interpreter": {
    "hash": "602b1c7484e26aedcf451d52d69949f81343de5d9cf3f1248e786745c8ce3227"
   }
  }
 },
 "nbformat": 4,
 "nbformat_minor": 2
}
