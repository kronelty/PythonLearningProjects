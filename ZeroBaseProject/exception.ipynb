{
 "cells": [
  {
   "cell_type": "code",
   "execution_count": 2,
   "metadata": {},
   "outputs": [
    {
     "name": "stdout",
     "output_type": "stream",
     "text": [
      "Traceback (most recent call last):\n",
      "  File \"<ipython-input-2-01a185680f1e>\", line 5, in <module>\n",
      "    fjalskdjf\n",
      "NameError: name 'fjalskdjf' is not defined\n",
      "\n",
      "Error occured with division by zero\n",
      "Traceback (most recent call last):\n",
      "  File \"<ipython-input-2-01a185680f1e>\", line 10, in <module>\n",
      "    a = 1 / 0\n",
      "ZeroDivisionError: division by zero\n",
      "\n",
      "process is sound and safe\n"
     ]
    }
   ],
   "source": [
    "import traceback\n",
    "\n",
    "\n",
    "try:\n",
    "    fjalskdjf\n",
    "except:\n",
    "    print(traceback.format_exc())\n",
    "\n",
    "try:\n",
    "    a = 1 / 0\n",
    "except Exception as e:\n",
    "    print(\"Error occured with\", e)\n",
    "    print(traceback.format_exc())\n",
    "\n",
    "print(\"process is sound and safe\")"
   ]
  }
 ],
 "metadata": {
  "kernelspec": {
   "display_name": "Python 3.6.5 ('base')",
   "language": "python",
   "name": "python3"
  },
  "language_info": {
   "codemirror_mode": {
    "name": "ipython",
    "version": 3
   },
   "file_extension": ".py",
   "mimetype": "text/x-python",
   "name": "python",
   "nbconvert_exporter": "python",
   "pygments_lexer": "ipython3",
   "version": "3.6.5"
  },
  "orig_nbformat": 4,
  "vscode": {
   "interpreter": {
    "hash": "602b1c7484e26aedcf451d52d69949f81343de5d9cf3f1248e786745c8ce3227"
   }
  }
 },
 "nbformat": 4,
 "nbformat_minor": 2
}
