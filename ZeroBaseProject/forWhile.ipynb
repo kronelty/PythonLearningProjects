{
 "cells": [
  {
   "cell_type": "code",
   "execution_count": 5,
   "metadata": {},
   "outputs": [
    {
     "name": "stdout",
     "output_type": "stream",
     "text": [
      "[0, 1, 2, 3, 4, 5, 6, 7, 8, 9]\n",
      "[0, 1, 2, 3, 4, 5, 6, 7, 8, 9]\n",
      "-------------------------------------------------------\n",
      "10\n",
      "8\n",
      "6\n"
     ]
    }
   ],
   "source": [
    "testList = [i for i in range(10)]\n",
    "print(testList)\n",
    "\n",
    "test2List = []\n",
    "for i in range(10):\n",
    "    test2List.append(i)\n",
    "\n",
    "print(test2List)\n",
    "\n",
    "print(\"-------------------------------------------------------\")\n",
    "\n",
    "for i in range(10, 5, -2):\n",
    "    print(i)"
   ]
  },
  {
   "cell_type": "code",
   "execution_count": 6,
   "metadata": {},
   "outputs": [
    {
     "name": "stdout",
     "output_type": "stream",
     "text": [
      "0\n",
      "1\n",
      "2\n",
      "3\n",
      "4\n",
      "-------------------------------------------------------\n",
      "0\n",
      "1\n",
      "2\n",
      "3\n",
      "4\n",
      "-------------------------------------------------------\n"
     ]
    }
   ],
   "source": [
    "a = 0\n",
    "while a < 5:\n",
    "    print(a)\n",
    "    a += 1 # python don't have ++, --\n",
    "\n",
    "print(\"-------------------------------------------------------\")\n",
    "\n",
    "a = 0\n",
    "while True:\n",
    "    print(a)\n",
    "    a += 1\n",
    "    if a >= 5:\n",
    "        break\n",
    "\n",
    "print(\"-------------------------------------------------------\")"
   ]
  }
 ],
 "metadata": {
  "kernelspec": {
   "display_name": "Python 3.6.5 ('base')",
   "language": "python",
   "name": "python3"
  },
  "language_info": {
   "codemirror_mode": {
    "name": "ipython",
    "version": 3
   },
   "file_extension": ".py",
   "mimetype": "text/x-python",
   "name": "python",
   "nbconvert_exporter": "python",
   "pygments_lexer": "ipython3",
   "version": "3.6.5"
  },
  "orig_nbformat": 4,
  "vscode": {
   "interpreter": {
    "hash": "602b1c7484e26aedcf451d52d69949f81343de5d9cf3f1248e786745c8ce3227"
   }
  }
 },
 "nbformat": 4,
 "nbformat_minor": 2
}
