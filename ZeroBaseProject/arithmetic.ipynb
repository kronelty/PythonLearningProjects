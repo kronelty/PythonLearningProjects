{
 "cells": [
  {
   "cell_type": "code",
   "execution_count": 6,
   "metadata": {},
   "outputs": [
    {
     "name": "stdout",
     "output_type": "stream",
     "text": [
      "30\n",
      "-10\n",
      "200\n",
      "0.5\n",
      "square 2147483647\n",
      "hex 2147483647\n",
      "/ 10.744461617722823\n",
      "// 10\n",
      "% 65025\n"
     ]
    }
   ],
   "source": [
    "print(10 + 20)\n",
    "print(10 - 20)\n",
    "print(10 * 20)\n",
    "print(10 / 20)\n",
    "\n",
    "print(\"square\", 2 ** 31 - 1)\n",
    "print(\"hex\", 0x7FFFFFFF)\n",
    "print(\"/\", 938475 / 87345)\n",
    "print(\"//\", 938475 // 87345)\n",
    "print(\"%\", 938475 % 87345)"
   ]
  },
  {
   "cell_type": "code",
   "execution_count": 26,
   "metadata": {},
   "outputs": [
    {
     "name": "stdout",
     "output_type": "stream",
     "text": [
      "0\n",
      "0\n",
      "1\n",
      "True\n",
      "-------------------------------------------------------\n",
      "True\n",
      "False\n",
      "how?\n",
      "not included\n",
      "0\n",
      "1\n",
      "2\n",
      "3\n",
      "4\n",
      "5\n",
      "6\n",
      "7\n",
      "8\n",
      "9\n",
      "10\n",
      "11\n",
      "12\n",
      "13\n",
      "14\n",
      "15\n",
      "16\n",
      "17\n",
      "18\n",
      "19\n",
      "20\n",
      "-------------------------------------------------------\n",
      "50\n",
      "49\n",
      "48\n",
      "47\n",
      "46\n",
      "45\n",
      "44\n",
      "43\n",
      "42\n",
      "41\n",
      "40\n",
      "-------------------------------------------------------\n",
      "5\n",
      "8\n",
      "78\n",
      "456\n",
      "2341\n",
      "2431\n",
      "3452\n",
      "4352\n",
      "4536\n",
      "7654\n",
      "7980\n",
      "8967\n",
      "53246\n",
      "54987\n"
     ]
    }
   ],
   "source": [
    "print (0 | 0)\n",
    "print (0 & 0)\n",
    "print (0 ^ 1)\n",
    "print (not 0)\n",
    "\n",
    "print(\"-------------------------------------------------------\")\n",
    "\n",
    "stringA = \"Hello python\"\n",
    "print(\"o p\" in stringA)\n",
    "print(\"o  p\" in stringA)\n",
    "\n",
    "if 1 == 0 or 0 == 0:\n",
    "    print(\"how?\")\n",
    "\n",
    "if \"o  p\" not in stringA:\n",
    "    print(\"not included\")\n",
    "\n",
    "for i in range(3 * 7):\n",
    "    print(i)\n",
    "\n",
    "print(\"-------------------------------------------------------\")\n",
    "\n",
    "for i in range(50, 39, -1):\n",
    "    print(i)\n",
    "\n",
    "print(\"-------------------------------------------------------\")\n",
    "\n",
    "listB = [5, 8, 53246, 78, 2341, 7654, 8967, 7980, 4352, 3452, 2431, 4536, 456, 54987]\n",
    "for i in sorted(listB, key=int):\n",
    "    print(i)"
   ]
  }
 ],
 "metadata": {
  "kernelspec": {
   "display_name": "Python 3.6.5 ('base')",
   "language": "python",
   "name": "python3"
  },
  "language_info": {
   "codemirror_mode": {
    "name": "ipython",
    "version": 3
   },
   "file_extension": ".py",
   "mimetype": "text/x-python",
   "name": "python",
   "nbconvert_exporter": "python",
   "pygments_lexer": "ipython3",
   "version": "3.6.5"
  },
  "orig_nbformat": 4,
  "vscode": {
   "interpreter": {
    "hash": "602b1c7484e26aedcf451d52d69949f81343de5d9cf3f1248e786745c8ce3227"
   }
  }
 },
 "nbformat": 4,
 "nbformat_minor": 2
}
