{
 "cells": [
  {
   "cell_type": "code",
   "execution_count": null,
   "metadata": {},
   "outputs": [],
   "source": [
    "print(10 + 20)\n",
    "print(10 - 20)\n",
    "print(10 * 20)\n",
    "print(10 / 20)\n",
    "\n",
    "print(\"square\", 2 ** 31 - 1)\n",
    "print(\"hex\", 0x7FFFFFFF)\n",
    "print(\"/\", 938475 / 87345)\n",
    "print(\"//\", 938475 // 87345)\n",
    "print(\"%\", 938475 % 87345)"
   ]
  },
  {
   "cell_type": "code",
   "execution_count": null,
   "metadata": {},
   "outputs": [],
   "source": [
    "print (0 | 0)\n",
    "print (0 & 0)\n",
    "print (0 ^ 1)\n",
    "print (not 0)\n",
    "\n",
    "print(\"-------------------------------------------------------\")\n",
    "\n",
    "stringA = \"Hello python\"\n",
    "print(\"o p\" in stringA)\n",
    "print(\"o  p\" in stringA)\n",
    "\n",
    "if 1 == 0 or 0 == 0:\n",
    "    print(\"how?\")\n",
    "\n",
    "if \"o  p\" not in stringA:\n",
    "    print(\"not included\")\n",
    "\n",
    "for i in range(3 * 7):\n",
    "    print(i)\n",
    "\n",
    "print(\"-------------------------------------------------------\")\n",
    "\n",
    "for i in range(50, 39, -1):\n",
    "    print(i)\n",
    "\n",
    "print(\"-------------------------------------------------------\")\n",
    "\n",
    "listB = [5, 8, 53246, 78, 2341, 7654, 8967, 7980, 4352, 3452, 2431, 4536, 456, 54987]\n",
    "for i in sorted(listB, key=int):\n",
    "    print(i)"
   ]
  }
 ],
 "metadata": {
  "kernelspec": {
   "display_name": "Python 3.6.5 ('base')",
   "language": "python",
   "name": "python3"
  },
  "language_info": {
   "codemirror_mode": {
    "name": "ipython",
    "version": 3
   },
   "file_extension": ".py",
   "mimetype": "text/x-python",
   "name": "python",
   "nbconvert_exporter": "python",
   "pygments_lexer": "ipython3",
   "version": "3.6.5"
  },
  "orig_nbformat": 4,
  "vscode": {
   "interpreter": {
    "hash": "602b1c7484e26aedcf451d52d69949f81343de5d9cf3f1248e786745c8ce3227"
   }
  }
 },
 "nbformat": 4,
 "nbformat_minor": 2
}
