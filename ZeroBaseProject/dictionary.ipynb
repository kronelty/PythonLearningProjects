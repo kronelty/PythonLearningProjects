{
 "cells": [
  {
   "cell_type": "code",
   "execution_count": 55,
   "metadata": {},
   "outputs": [
    {
     "name": "stdout",
     "output_type": "stream",
     "text": [
      "{'n9y834': 1, 'rfedch8t7y0': 768, '45tyfcmh9n8u7': 8976539619832723875}\n",
      "1\n",
      "768\n",
      "8976539619832723875\n",
      "-------------------------------------------------------\n",
      "n9y834\n",
      "1\n",
      "rfedch8t7y0\n",
      "768\n",
      "45tyfcmh9n8u7\n",
      "8976539619832723875\n",
      "-------------------------------------------------------\n",
      "1\n",
      "768\n",
      "8976539619832723875\n",
      "-------------------------------------------------------\n",
      "access dictionary values with item's first index\n",
      "1\n",
      "768\n",
      "8976539619832723875\n",
      "-------------------------------------------------------\n",
      "1\n",
      "dict_values([768, 8976539619832723875])\n",
      "key 'n9y834' value does not exists\n",
      "-------------------------------------------------------\n",
      "-------------------------------------------------------\n",
      "-------------------------------------------------------\n",
      "-------------------------------------------------------\n"
     ]
    }
   ],
   "source": [
    "aDic = {'n9y834': 1, 'rfedch8t7y0': 768, '45tyfcmh9n8u7': 8976539619832723875}\n",
    "print(aDic)\n",
    "print(aDic['n9y834'])\n",
    "print(aDic['rfedch8t7y0'])\n",
    "print(aDic['45tyfcmh9n8u7'])\n",
    "\n",
    "print(\"-------------------------------------------------------\")\n",
    "\n",
    "for i in aDic.keys():\n",
    "    print(i)\n",
    "    print(aDic[i])\n",
    "\n",
    "print(\"-------------------------------------------------------\")\n",
    "\n",
    "for i in aDic.values():\n",
    "    print(i)\n",
    "\n",
    "print(\"-------------------------------------------------------\")\n",
    "\n",
    "print(\"access dictionary values with item's first index\")\n",
    "for i in aDic.items():\n",
    "    print(aDic[i[0]])\n",
    "\n",
    "print(\"-------------------------------------------------------\")\n",
    "\n",
    "print(aDic.pop('n9y834'))\n",
    "print(aDic.values())\n",
    "try:\n",
    "    print(aDic.pop('n9y834'))\n",
    "except:\n",
    "    print(\"key 'n9y834' value does not exists\")\n",
    "\n",
    "print(\"-------------------------------------------------------\")\n",
    "\n",
    "print(\"-------------------------------------------------------\")\n",
    "\n",
    "print(\"-------------------------------------------------------\")\n",
    "\n",
    "print(\"-------------------------------------------------------\")"
   ]
  }
 ],
 "metadata": {
  "kernelspec": {
   "display_name": "Python 3.6.5 ('base')",
   "language": "python",
   "name": "python3"
  },
  "language_info": {
   "codemirror_mode": {
    "name": "ipython",
    "version": 3
   },
   "file_extension": ".py",
   "mimetype": "text/x-python",
   "name": "python",
   "nbconvert_exporter": "python",
   "pygments_lexer": "ipython3",
   "version": "3.6.5"
  },
  "orig_nbformat": 4,
  "vscode": {
   "interpreter": {
    "hash": "602b1c7484e26aedcf451d52d69949f81343de5d9cf3f1248e786745c8ce3227"
   }
  }
 },
 "nbformat": 4,
 "nbformat_minor": 2
}
