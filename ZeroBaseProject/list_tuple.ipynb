{
 "cells": [
  {
   "cell_type": "code",
   "execution_count": 1,
   "metadata": {},
   "outputs": [
    {
     "name": "stdout",
     "output_type": "stream",
     "text": [
      "[1, 2, 3, 4, 5]\n",
      "1 5\n",
      "[1, 2]\n",
      "[3, 4, 5]\n",
      "-0x3483bf5c07c0f\n",
      "4294967295\n",
      "4294967295\n",
      "[0, 1, 'third', 65535, [3, 4, 5]]\n",
      "[]\n",
      "[0, 1, 'third', 65535, [3, 4, 5]]\n",
      "-----------------------------------------\n",
      "[0]\n",
      "[1, 'third', 65535, [3, 4, 5]]\n",
      "[0, 1, 'third', 65535]\n",
      "[[3, 4, 5]]\n",
      "[0, 1, 'third', 65535, [3, 4, 5]]\n",
      "[]\n",
      "[0, 1, 'third', 65535, [3, 4, 5]]\n",
      "[]\n",
      "-----------------------------------------\n",
      "[65535, [3, 4, 5]]\n",
      "-----------------------------------------\n",
      "(0, 1, 'third', 65535, [3, 4, 5])\n",
      "tuple assign ERROR\n",
      "-----------------------------------------\n",
      "[0, 1, 'third', 65535, [3, 4, 5]]\n",
      "[None, 1, 'third', 65535, [3, 4, 5]]\n"
     ]
    }
   ],
   "source": [
    "a_list = [1, 2, 3, 4, 5]\n",
    "\n",
    "print(a_list)\n",
    "print(a_list[0], a_list[4])\n",
    "\n",
    "print(a_list[:2])\n",
    "print(a_list[2:])\n",
    "\n",
    "print(hex(-923847293434895))\n",
    "\n",
    "print(int('0xFFFFFFFF', 16))\n",
    "print(int(\"0xFFFFFFFF\", 16))\n",
    "\n",
    "b_list = [0, 1, \"third\", 0xFFFF, [3, 4, 5]]\n",
    "print(b_list)\n",
    "print(b_list[:0])\n",
    "print(b_list[0:])\n",
    "\n",
    "print(\"-----------------------------------------\")\n",
    "\n",
    "print(b_list[:1])\n",
    "print(b_list[1:])\n",
    "\n",
    "print(b_list[:4])\n",
    "print(b_list[4:])\n",
    "\n",
    "print(b_list[:5])\n",
    "print(b_list[5:])\n",
    "\n",
    "print(b_list[:6])\n",
    "print(b_list[6:])\n",
    "\n",
    "print(\"-----------------------------------------\")\n",
    "\n",
    "print(b_list[3:6])\n",
    "\n",
    "print(\"-----------------------------------------\")\n",
    "\n",
    "\n",
    "b_list = tuple(b_list)\n",
    "\n",
    "try:\n",
    "    print(b_list)\n",
    "    b_list[0] = None\n",
    "    print(b_list)\n",
    "except:\n",
    "    print(\"tuple assign ERROR\")\n",
    "\n",
    "print(\"-----------------------------------------\")\n",
    "\n",
    "b_list = list(b_list)\n",
    "\n",
    "try:\n",
    "    print(b_list)\n",
    "    b_list[0] = None\n",
    "    print(b_list)\n",
    "except:\n",
    "    print(\"list assign ERROR\")"
   ]
  }
 ],
 "metadata": {
  "kernelspec": {
   "display_name": "Python 3.6.5 ('base')",
   "language": "python",
   "name": "python3"
  },
  "language_info": {
   "codemirror_mode": {
    "name": "ipython",
    "version": 3
   },
   "file_extension": ".py",
   "mimetype": "text/x-python",
   "name": "python",
   "nbconvert_exporter": "python",
   "pygments_lexer": "ipython3",
   "version": "3.6.5"
  },
  "orig_nbformat": 4,
  "vscode": {
   "interpreter": {
    "hash": "602b1c7484e26aedcf451d52d69949f81343de5d9cf3f1248e786745c8ce3227"
   }
  }
 },
 "nbformat": 4,
 "nbformat_minor": 2
}
