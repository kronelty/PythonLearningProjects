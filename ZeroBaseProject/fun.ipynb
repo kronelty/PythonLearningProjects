{
 "cells": [
  {
   "cell_type": "code",
   "execution_count": 1,
   "metadata": {},
   "outputs": [
    {
     "name": "stdout",
     "output_type": "stream",
     "text": [
      "안녕하세용\n",
      "파이썬과 40개의 작품들 입니다.\n",
      "-------------------------------------------------------\n",
      "안녕하세용\n",
      "파이썬과 40개의 작품들 입니다.\n",
      "안녕하세용\n",
      "파이썬과 40개의 작품들 입니다.\n",
      "안녕하세용\n",
      "파이썬과 40개의 작품들 입니다.\n",
      "안녕하세용\n",
      "파이썬과 40개의 작품들 입니다.\n",
      "안녕하세용\n",
      "파이썬과 40개의 작품들 입니다.\n",
      "안녕하세용\n",
      "파이썬과 40개의 작품들 입니다.\n",
      "안녕하세용\n",
      "파이썬과 40개의 작품들 입니다.\n",
      "안녕하세용\n",
      "파이썬과 40개의 작품들 입니다.\n",
      "안녕하세용\n",
      "파이썬과 40개의 작품들 입니다.\n",
      "안녕하세용\n",
      "파이썬과 40개의 작품들 입니다.\n",
      "-------------------------------------------------------\n",
      "10\n",
      "안녕하세용\n",
      "파이썬과 40개의 작품들 입니다.\n",
      "8\n",
      "안녕하세용\n",
      "파이썬과 40개의 작품들 입니다.\n",
      "6\n",
      "안녕하세용\n",
      "파이썬과 40개의 작품들 입니다.\n",
      "4\n",
      "안녕하세용\n",
      "파이썬과 40개의 작품들 입니다.\n",
      "2\n",
      "안녕하세용\n",
      "파이썬과 40개의 작품들 입니다.\n"
     ]
    }
   ],
   "source": [
    "def func():\n",
    "    print(\"안녕하세용\")\n",
    "    print(\"파이썬과 40개의 작품들 입니다.\")\n",
    "\n",
    "func()\n",
    "\n",
    "rangeTenth = range(10)\n",
    "rangeReverse2From10 = range(10, 0, -2)\n",
    "\n",
    "print(\"-------------------------------------------------------\")\n",
    "\n",
    "for i in rangeTenth:\n",
    "    func()\n",
    "\n",
    "print(\"-------------------------------------------------------\")\n",
    "\n",
    "for i in rangeReverse2From10:\n",
    "    print(i)\n",
    "    func()"
   ]
  },
  {
   "cell_type": "code",
   "execution_count": 2,
   "metadata": {},
   "outputs": [
    {
     "name": "stdout",
     "output_type": "stream",
     "text": [
      "3\n",
      "6\n",
      "(4, 3)\n",
      "multiple return function returns type  <class 'tuple'>\n",
      "4 3\n",
      "6 8\n",
      "3\n"
     ]
    }
   ],
   "source": [
    "def funcAdd(a, b):\n",
    "    return a + b\n",
    "\n",
    "c = funcAdd(1, 2)\n",
    "print(c)\n",
    "\n",
    "def funcMux(a, b):\n",
    "    mux = a * b\n",
    "    return mux\n",
    "\n",
    "c = funcMux(2, 3)\n",
    "print(c)\n",
    "\n",
    "def funcAddMux(a, b):\n",
    "    add = a + b\n",
    "    mux = a * b\n",
    "    return add, mux\n",
    "\n",
    "a = funcAddMux(1, 3)\n",
    "print(a)\n",
    "print(\"multiple return function returns type \", type(a))\n",
    "print(a[0], a[1])\n",
    "a, b = funcAddMux(2, 4)\n",
    "print(a, b)\n",
    "\n",
    "_, b = funcAddMux(1, 3)\n",
    "print(b)"
   ]
  }
 ],
 "metadata": {
  "kernelspec": {
   "display_name": "Python 3.6.5 ('base')",
   "language": "python",
   "name": "python3"
  },
  "language_info": {
   "codemirror_mode": {
    "name": "ipython",
    "version": 3
   },
   "file_extension": ".py",
   "mimetype": "text/x-python",
   "name": "python",
   "nbconvert_exporter": "python",
   "pygments_lexer": "ipython3",
   "version": "3.6.5"
  },
  "orig_nbformat": 4,
  "vscode": {
   "interpreter": {
    "hash": "602b1c7484e26aedcf451d52d69949f81343de5d9cf3f1248e786745c8ce3227"
   }
  }
 },
 "nbformat": 4,
 "nbformat_minor": 2
}
